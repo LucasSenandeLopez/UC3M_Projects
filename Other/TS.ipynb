version https://git-lfs.github.com/spec/v1
oid sha256:5964a8524638bfc95b7c02058c7df04bec6262e5e2da757e16f1f337be37eaeb
size 1896101
