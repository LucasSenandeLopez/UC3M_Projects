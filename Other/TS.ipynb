version https://git-lfs.github.com/spec/v1
oid sha256:2be64145dafa0254482a6f4f590b9b9cc3a0fe03f58204a64f096e8535070cba
size 299677
