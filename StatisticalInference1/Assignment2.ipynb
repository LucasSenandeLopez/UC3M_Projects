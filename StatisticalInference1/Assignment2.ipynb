version https://git-lfs.github.com/spec/v1
oid sha256:d93a64d86dc5cb418315cfd704d59976a7b2f6773e7f9d6f3d818fd90a5fe890
size 6595479
