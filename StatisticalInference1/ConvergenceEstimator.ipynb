version https://git-lfs.github.com/spec/v1
oid sha256:0651bd31c0646ce83c1e46f3060abd28c7b88e76c78fc0d68190391e073fb64d
size 5761
