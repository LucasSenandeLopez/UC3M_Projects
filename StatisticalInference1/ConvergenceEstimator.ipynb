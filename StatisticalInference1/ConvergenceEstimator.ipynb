version https://git-lfs.github.com/spec/v1
oid sha256:7cf00a13f678eed0e7e3ac8e0bf11032e85a1aa0b0faa62a0f82de28766e2235
size 693225
